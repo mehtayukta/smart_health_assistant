{
  "cells": [
    {
      "cell_type": "markdown",
      "metadata": {
        "id": "view-in-github",
        "colab_type": "text"
      },
      "source": [
        "<a href=\"https://colab.research.google.com/github/webrockerz2020/smart_health_assistant/blob/main/8_Predicting_and_Primitive_care.ipynb\" target=\"_parent\"><img src=\"https://colab.research.google.com/assets/colab-badge.svg\" alt=\"Open In Colab\"/></a>"
      ]
    },
    {
      "cell_type": "code",
      "source": [
        "!pip install fuzzywuzzy"
      ],
      "metadata": {
        "colab": {
          "base_uri": "https://localhost:8080/"
        },
        "id": "u8g1m2od0Cou",
        "outputId": "56fe8864-b190-4ccb-b7ca-25faca9d377e"
      },
      "id": "u8g1m2od0Cou",
      "execution_count": 2,
      "outputs": [
        {
          "output_type": "stream",
          "name": "stdout",
          "text": [
            "Collecting fuzzywuzzy\n",
            "  Downloading fuzzywuzzy-0.18.0-py2.py3-none-any.whl (18 kB)\n",
            "Installing collected packages: fuzzywuzzy\n",
            "Successfully installed fuzzywuzzy-0.18.0\n"
          ]
        }
      ]
    },
    {
      "cell_type": "code",
      "execution_count": 3,
      "id": "62ca1540",
      "metadata": {
        "colab": {
          "base_uri": "https://localhost:8080/"
        },
        "id": "62ca1540",
        "outputId": "4284214e-457a-481b-d69d-db386e8e6ada"
      },
      "outputs": [
        {
          "output_type": "stream",
          "name": "stderr",
          "text": [
            "/usr/local/lib/python3.10/dist-packages/fuzzywuzzy/fuzz.py:11: UserWarning: Using slow pure-python SequenceMatcher. Install python-Levenshtein to remove this warning\n",
            "  warnings.warn('Using slow pure-python SequenceMatcher. Install python-Levenshtein to remove this warning')\n"
          ]
        },
        {
          "output_type": "stream",
          "name": "stdout",
          "text": [
            "Mounted at /content/drive/\n"
          ]
        }
      ],
      "source": [
        "import pickle\n",
        "import pandas as pd\n",
        "from fuzzywuzzy import process\n",
        "\n",
        "import os\n",
        "#Connecting the driver\n",
        "from google.colab import drive\n",
        "\n",
        "drive.mount('/content/drive/')\n",
        "\n",
        "root_dir = '/content/drive/MyDrive/DAP/python_scripts'"
      ]
    },
    {
      "cell_type": "code",
      "execution_count": 4,
      "id": "9898139e",
      "metadata": {
        "colab": {
          "base_uri": "https://localhost:8080/",
          "height": 143
        },
        "id": "9898139e",
        "outputId": "622a6785-c9ec-477d-b861-659f9e4ef4b2"
      },
      "outputs": [
        {
          "output_type": "execute_result",
          "data": {
            "text/plain": [
              "   did                                           diagnose  \\\n",
              "0    1  Abdominal aortic aneurysm: (enlarged major blo...   \n",
              "1    2                                 Abdominal swelling   \n",
              "2    3                                   Abdominal trauma   \n",
              "\n",
              "                                                 pid  \n",
              "0  Stopping smoking may slow their growth. Small ...  \n",
              "1  Eating smaller meals may help prevent bloating...  \n",
              "2                                           Surgery.  "
            ],
            "text/html": [
              "\n",
              "  <div id=\"df-5ba4d9f7-8d58-49d4-b916-f0e3e9681203\" class=\"colab-df-container\">\n",
              "    <div>\n",
              "<style scoped>\n",
              "    .dataframe tbody tr th:only-of-type {\n",
              "        vertical-align: middle;\n",
              "    }\n",
              "\n",
              "    .dataframe tbody tr th {\n",
              "        vertical-align: top;\n",
              "    }\n",
              "\n",
              "    .dataframe thead th {\n",
              "        text-align: right;\n",
              "    }\n",
              "</style>\n",
              "<table border=\"1\" class=\"dataframe\">\n",
              "  <thead>\n",
              "    <tr style=\"text-align: right;\">\n",
              "      <th></th>\n",
              "      <th>did</th>\n",
              "      <th>diagnose</th>\n",
              "      <th>pid</th>\n",
              "    </tr>\n",
              "  </thead>\n",
              "  <tbody>\n",
              "    <tr>\n",
              "      <th>0</th>\n",
              "      <td>1</td>\n",
              "      <td>Abdominal aortic aneurysm: (enlarged major blo...</td>\n",
              "      <td>Stopping smoking may slow their growth. Small ...</td>\n",
              "    </tr>\n",
              "    <tr>\n",
              "      <th>1</th>\n",
              "      <td>2</td>\n",
              "      <td>Abdominal swelling</td>\n",
              "      <td>Eating smaller meals may help prevent bloating...</td>\n",
              "    </tr>\n",
              "    <tr>\n",
              "      <th>2</th>\n",
              "      <td>3</td>\n",
              "      <td>Abdominal trauma</td>\n",
              "      <td>Surgery.</td>\n",
              "    </tr>\n",
              "  </tbody>\n",
              "</table>\n",
              "</div>\n",
              "    <div class=\"colab-df-buttons\">\n",
              "\n",
              "  <div class=\"colab-df-container\">\n",
              "    <button class=\"colab-df-convert\" onclick=\"convertToInteractive('df-5ba4d9f7-8d58-49d4-b916-f0e3e9681203')\"\n",
              "            title=\"Convert this dataframe to an interactive table.\"\n",
              "            style=\"display:none;\">\n",
              "\n",
              "  <svg xmlns=\"http://www.w3.org/2000/svg\" height=\"24px\" viewBox=\"0 -960 960 960\">\n",
              "    <path d=\"M120-120v-720h720v720H120Zm60-500h600v-160H180v160Zm220 220h160v-160H400v160Zm0 220h160v-160H400v160ZM180-400h160v-160H180v160Zm440 0h160v-160H620v160ZM180-180h160v-160H180v160Zm440 0h160v-160H620v160Z\"/>\n",
              "  </svg>\n",
              "    </button>\n",
              "\n",
              "  <style>\n",
              "    .colab-df-container {\n",
              "      display:flex;\n",
              "      gap: 12px;\n",
              "    }\n",
              "\n",
              "    .colab-df-convert {\n",
              "      background-color: #E8F0FE;\n",
              "      border: none;\n",
              "      border-radius: 50%;\n",
              "      cursor: pointer;\n",
              "      display: none;\n",
              "      fill: #1967D2;\n",
              "      height: 32px;\n",
              "      padding: 0 0 0 0;\n",
              "      width: 32px;\n",
              "    }\n",
              "\n",
              "    .colab-df-convert:hover {\n",
              "      background-color: #E2EBFA;\n",
              "      box-shadow: 0px 1px 2px rgba(60, 64, 67, 0.3), 0px 1px 3px 1px rgba(60, 64, 67, 0.15);\n",
              "      fill: #174EA6;\n",
              "    }\n",
              "\n",
              "    .colab-df-buttons div {\n",
              "      margin-bottom: 4px;\n",
              "    }\n",
              "\n",
              "    [theme=dark] .colab-df-convert {\n",
              "      background-color: #3B4455;\n",
              "      fill: #D2E3FC;\n",
              "    }\n",
              "\n",
              "    [theme=dark] .colab-df-convert:hover {\n",
              "      background-color: #434B5C;\n",
              "      box-shadow: 0px 1px 3px 1px rgba(0, 0, 0, 0.15);\n",
              "      filter: drop-shadow(0px 1px 2px rgba(0, 0, 0, 0.3));\n",
              "      fill: #FFFFFF;\n",
              "    }\n",
              "  </style>\n",
              "\n",
              "    <script>\n",
              "      const buttonEl =\n",
              "        document.querySelector('#df-5ba4d9f7-8d58-49d4-b916-f0e3e9681203 button.colab-df-convert');\n",
              "      buttonEl.style.display =\n",
              "        google.colab.kernel.accessAllowed ? 'block' : 'none';\n",
              "\n",
              "      async function convertToInteractive(key) {\n",
              "        const element = document.querySelector('#df-5ba4d9f7-8d58-49d4-b916-f0e3e9681203');\n",
              "        const dataTable =\n",
              "          await google.colab.kernel.invokeFunction('convertToInteractive',\n",
              "                                                    [key], {});\n",
              "        if (!dataTable) return;\n",
              "\n",
              "        const docLinkHtml = 'Like what you see? Visit the ' +\n",
              "          '<a target=\"_blank\" href=https://colab.research.google.com/notebooks/data_table.ipynb>data table notebook</a>'\n",
              "          + ' to learn more about interactive tables.';\n",
              "        element.innerHTML = '';\n",
              "        dataTable['output_type'] = 'display_data';\n",
              "        await google.colab.output.renderOutput(dataTable, element);\n",
              "        const docLink = document.createElement('div');\n",
              "        docLink.innerHTML = docLinkHtml;\n",
              "        element.appendChild(docLink);\n",
              "      }\n",
              "    </script>\n",
              "  </div>\n",
              "\n",
              "\n",
              "<div id=\"df-e974835e-7d1c-4125-b2c2-135a9d9960f1\">\n",
              "  <button class=\"colab-df-quickchart\" onclick=\"quickchart('df-e974835e-7d1c-4125-b2c2-135a9d9960f1')\"\n",
              "            title=\"Suggest charts\"\n",
              "            style=\"display:none;\">\n",
              "\n",
              "<svg xmlns=\"http://www.w3.org/2000/svg\" height=\"24px\"viewBox=\"0 0 24 24\"\n",
              "     width=\"24px\">\n",
              "    <g>\n",
              "        <path d=\"M19 3H5c-1.1 0-2 .9-2 2v14c0 1.1.9 2 2 2h14c1.1 0 2-.9 2-2V5c0-1.1-.9-2-2-2zM9 17H7v-7h2v7zm4 0h-2V7h2v10zm4 0h-2v-4h2v4z\"/>\n",
              "    </g>\n",
              "</svg>\n",
              "  </button>\n",
              "\n",
              "<style>\n",
              "  .colab-df-quickchart {\n",
              "      --bg-color: #E8F0FE;\n",
              "      --fill-color: #1967D2;\n",
              "      --hover-bg-color: #E2EBFA;\n",
              "      --hover-fill-color: #174EA6;\n",
              "      --disabled-fill-color: #AAA;\n",
              "      --disabled-bg-color: #DDD;\n",
              "  }\n",
              "\n",
              "  [theme=dark] .colab-df-quickchart {\n",
              "      --bg-color: #3B4455;\n",
              "      --fill-color: #D2E3FC;\n",
              "      --hover-bg-color: #434B5C;\n",
              "      --hover-fill-color: #FFFFFF;\n",
              "      --disabled-bg-color: #3B4455;\n",
              "      --disabled-fill-color: #666;\n",
              "  }\n",
              "\n",
              "  .colab-df-quickchart {\n",
              "    background-color: var(--bg-color);\n",
              "    border: none;\n",
              "    border-radius: 50%;\n",
              "    cursor: pointer;\n",
              "    display: none;\n",
              "    fill: var(--fill-color);\n",
              "    height: 32px;\n",
              "    padding: 0;\n",
              "    width: 32px;\n",
              "  }\n",
              "\n",
              "  .colab-df-quickchart:hover {\n",
              "    background-color: var(--hover-bg-color);\n",
              "    box-shadow: 0 1px 2px rgba(60, 64, 67, 0.3), 0 1px 3px 1px rgba(60, 64, 67, 0.15);\n",
              "    fill: var(--button-hover-fill-color);\n",
              "  }\n",
              "\n",
              "  .colab-df-quickchart-complete:disabled,\n",
              "  .colab-df-quickchart-complete:disabled:hover {\n",
              "    background-color: var(--disabled-bg-color);\n",
              "    fill: var(--disabled-fill-color);\n",
              "    box-shadow: none;\n",
              "  }\n",
              "\n",
              "  .colab-df-spinner {\n",
              "    border: 2px solid var(--fill-color);\n",
              "    border-color: transparent;\n",
              "    border-bottom-color: var(--fill-color);\n",
              "    animation:\n",
              "      spin 1s steps(1) infinite;\n",
              "  }\n",
              "\n",
              "  @keyframes spin {\n",
              "    0% {\n",
              "      border-color: transparent;\n",
              "      border-bottom-color: var(--fill-color);\n",
              "      border-left-color: var(--fill-color);\n",
              "    }\n",
              "    20% {\n",
              "      border-color: transparent;\n",
              "      border-left-color: var(--fill-color);\n",
              "      border-top-color: var(--fill-color);\n",
              "    }\n",
              "    30% {\n",
              "      border-color: transparent;\n",
              "      border-left-color: var(--fill-color);\n",
              "      border-top-color: var(--fill-color);\n",
              "      border-right-color: var(--fill-color);\n",
              "    }\n",
              "    40% {\n",
              "      border-color: transparent;\n",
              "      border-right-color: var(--fill-color);\n",
              "      border-top-color: var(--fill-color);\n",
              "    }\n",
              "    60% {\n",
              "      border-color: transparent;\n",
              "      border-right-color: var(--fill-color);\n",
              "    }\n",
              "    80% {\n",
              "      border-color: transparent;\n",
              "      border-right-color: var(--fill-color);\n",
              "      border-bottom-color: var(--fill-color);\n",
              "    }\n",
              "    90% {\n",
              "      border-color: transparent;\n",
              "      border-bottom-color: var(--fill-color);\n",
              "    }\n",
              "  }\n",
              "</style>\n",
              "\n",
              "  <script>\n",
              "    async function quickchart(key) {\n",
              "      const quickchartButtonEl =\n",
              "        document.querySelector('#' + key + ' button');\n",
              "      quickchartButtonEl.disabled = true;  // To prevent multiple clicks.\n",
              "      quickchartButtonEl.classList.add('colab-df-spinner');\n",
              "      try {\n",
              "        const charts = await google.colab.kernel.invokeFunction(\n",
              "            'suggestCharts', [key], {});\n",
              "      } catch (error) {\n",
              "        console.error('Error during call to suggestCharts:', error);\n",
              "      }\n",
              "      quickchartButtonEl.classList.remove('colab-df-spinner');\n",
              "      quickchartButtonEl.classList.add('colab-df-quickchart-complete');\n",
              "    }\n",
              "    (() => {\n",
              "      let quickchartButtonEl =\n",
              "        document.querySelector('#df-e974835e-7d1c-4125-b2c2-135a9d9960f1 button');\n",
              "      quickchartButtonEl.style.display =\n",
              "        google.colab.kernel.accessAllowed ? 'block' : 'none';\n",
              "    })();\n",
              "  </script>\n",
              "</div>\n",
              "\n",
              "    </div>\n",
              "  </div>\n"
            ]
          },
          "metadata": {},
          "execution_count": 4
        }
      ],
      "source": [
        "# getting primitive care\n",
        "df_primitive_care = pd.read_csv(os.path.join(root_dir,\"prec_t.csv\"))\n",
        "diagnose_list = df_primitive_care['diagnose'].tolist()\n",
        "df_primitive_care.head(3)"
      ]
    },
    {
      "cell_type": "code",
      "execution_count": 5,
      "id": "2c4ecf8d",
      "metadata": {
        "id": "2c4ecf8d"
      },
      "outputs": [],
      "source": [
        "def predicting_disease(syp,diagnose_list,feature_names):\n",
        "    columns_list=feature_names.copy()\n",
        "    for col in syp:\n",
        "        if col not in feature_names:\n",
        "            #print(col)\n",
        "            syp.remove(col)\n",
        "\n",
        "    temp_df = pd.DataFrame(0, index=[0], columns=columns_list)\n",
        "    temp_df.loc[0, syp] = 1\n",
        "    print(syp)\n",
        "    print(temp_df)\n",
        "    predicted_class_1 = loaded_model.predict(temp_df)\n",
        "    #print(\"Predicted class:\", predicted_class_1)\n",
        "    # getting primitive care\n",
        "    predicted_class_1 = str(predicted_class_1)\n",
        "    diagnose_list = [str(item) for item in diagnose_list]\n",
        "    best_match, similarity_score = process.extractOne(predicted_class_1, diagnose_list)\n",
        "    threshold = 70\n",
        "    if similarity_score >= threshold:\n",
        "        print(f\"Best match for '{predicted_class_1}': '{best_match}' with similarity score: {similarity_score}\")\n",
        "        primitive_care= df_primitive_care[df_primitive_care['diagnose']==best_match]\n",
        "        primitive_care = primitive_care['pid'].iloc[0]\n",
        "        message = f\"Based on the symptoms you entered, there are chances that you are suffering from **{predicted_class_1}**.\\n\"\\\n",
        "          f\"\\nThe primitive care we would suggest is **{primitive_care}** \\nThis recommendation is based on the symptoms you provided.\\n \"\\\n",
        "        \"However, please note that this is not a substitute for professional medical advice. We strongly recommend consulting a healthcare professional \"\\\n",
        "          \"for further clarification and a proper diagnosis. Your health is important, and a medical professional can provide personalized guidance and care.\"\n",
        "        print(message)\n",
        "\n",
        "    else:\n",
        "        print(f\" Diseases Predicted '{predicted_class_1}' in the is not monitored.\")\n",
        ""
      ]
    },
    {
      "cell_type": "markdown",
      "id": "fa44665b",
      "metadata": {
        "id": "fa44665b"
      },
      "source": [
        "# Testing using Random Forest"
      ]
    },
    {
      "cell_type": "markdown",
      "id": "edc32596",
      "metadata": {
        "id": "edc32596"
      },
      "source": [
        "## Logistic Regression"
      ]
    },
    {
      "cell_type": "code",
      "execution_count": 6,
      "id": "ed73b637",
      "metadata": {
        "colab": {
          "base_uri": "https://localhost:8080/"
        },
        "id": "ed73b637",
        "outputId": "a6fa5a94-b63f-4f47-8421-9037f225044c"
      },
      "outputs": [
        {
          "output_type": "stream",
          "name": "stderr",
          "text": [
            "/usr/local/lib/python3.10/dist-packages/sklearn/base.py:318: UserWarning: Trying to unpickle estimator LogisticRegression from version 1.3.0 when using version 1.2.2. This might lead to breaking code or invalid results. Use at your own risk. For more info please refer to:\n",
            "https://scikit-learn.org/stable/model_persistence.html#security-maintainability-limitations\n",
            "  warnings.warn(\n"
          ]
        }
      ],
      "source": [
        "with open(os.path.join(root_dir,'logistic_regression_model_rd.pkl'), 'rb') as file:\n",
        "    loaded_model = pickle.load(file)"
      ]
    },
    {
      "cell_type": "code",
      "execution_count": 7,
      "id": "a6f250ec",
      "metadata": {
        "id": "a6f250ec"
      },
      "outputs": [],
      "source": [
        "with open(os.path.join(root_dir,'rand_for_features_lr.txt')) as file:\n",
        "    lines = [line.rstrip() for line in file]"
      ]
    },
    {
      "cell_type": "code",
      "execution_count": 8,
      "id": "b05fcfff",
      "metadata": {
        "id": "b05fcfff"
      },
      "outputs": [],
      "source": [
        "feature_names_rf = lines.copy()"
      ]
    },
    {
      "cell_type": "code",
      "execution_count": 9,
      "id": "3b499420",
      "metadata": {
        "id": "3b499420"
      },
      "outputs": [],
      "source": [
        "syp = ['facial paresis','muscle twitch','chill','fever','cough','decreased body weight']"
      ]
    },
    {
      "cell_type": "code",
      "execution_count": 10,
      "id": "73e92f81",
      "metadata": {
        "colab": {
          "base_uri": "https://localhost:8080/"
        },
        "id": "73e92f81",
        "outputId": "e1ca7513-ef8b-4198-de93-49e10355613f"
      },
      "outputs": [
        {
          "output_type": "stream",
          "name": "stdout",
          "text": [
            "['facial paresis', 'muscle twitch', 'chill', 'fever', 'cough', 'decreased body weight']\n",
            "   pain  patient non compliance  fever  nausea  rale  pain abdominal  \\\n",
            "0     0                       0      1       0     0               0   \n",
            "\n",
            "   shortness of breath  pain chest  night sweat  hypotension  ...  \\\n",
            "0                    0           0            0            0  ...   \n",
            "\n",
            "   hypersomnia  focal seizures  dysuria  hacking cough  tremor  heartburn  \\\n",
            "0            0               0        0              0       0          0   \n",
            "\n",
            "   painful swallowing  sinus rhythm  asthenia  dyspnea on exertion  \n",
            "0                   0             0         0                    0  \n",
            "\n",
            "[1 rows x 100 columns]\n",
            "Best match for '[\"Alzheimer's disease\"]': 'Alzheimer's disease: dementia' with similarity score: 90\n",
            "Based on the symptoms you entered, there are chances that you are suffering from **[\"Alzheimer's disease\"]**.\n",
            "\n",
            "The primitive care we would suggest is **Rehabilitation and Occupational Therapy, Cognition-enhancing medication.** \n",
            "This recommendation is based on the symptoms you provided.\n",
            " However, please note that this is not a substitute for professional medical advice. We strongly recommend consulting a healthcare professional for further clarification and a proper diagnosis. Your health is important, and a medical professional can provide personalized guidance and care.\n"
          ]
        }
      ],
      "source": [
        "predicting_disease(syp,diagnose_list,feature_names_rf)"
      ]
    },
    {
      "cell_type": "code",
      "execution_count": 11,
      "id": "56c13f6f",
      "metadata": {
        "colab": {
          "base_uri": "https://localhost:8080/"
        },
        "id": "56c13f6f",
        "outputId": "2e994235-75f1-4388-b63a-d93b9f640f08"
      },
      "outputs": [
        {
          "output_type": "stream",
          "name": "stdout",
          "text": [
            "['muscle twitch', 'chill', 'fever']\n",
            "   pain  patient non compliance  fever  nausea  rale  pain abdominal  \\\n",
            "0     0                       0      1       0     0               0   \n",
            "\n",
            "   shortness of breath  pain chest  night sweat  hypotension  ...  \\\n",
            "0                    0           0            0            0  ...   \n",
            "\n",
            "   hypersomnia  focal seizures  dysuria  hacking cough  tremor  heartburn  \\\n",
            "0            0               0        0              0       0          0   \n",
            "\n",
            "   painful swallowing  sinus rhythm  asthenia  dyspnea on exertion  \n",
            "0                   0             0         0                    0  \n",
            "\n",
            "[1 rows x 100 columns]\n",
            "Best match for '['cellulitis']': 'Cellulitis: skin infection' with similarity score: 90\n",
            "Based on the symptoms you entered, there are chances that you are suffering from **['cellulitis']**.\n",
            "\n",
            "The primitive care we would suggest is **Antibiotics and Penicillin** \n",
            "This recommendation is based on the symptoms you provided.\n",
            " However, please note that this is not a substitute for professional medical advice. We strongly recommend consulting a healthcare professional for further clarification and a proper diagnosis. Your health is important, and a medical professional can provide personalized guidance and care.\n"
          ]
        }
      ],
      "source": [
        "syp = ['abscess bacterial','muscle twitch','chill','fever','barking cough']\n",
        "predicting_disease(syp,diagnose_list,feature_names_rf)\n",
        "# in this case \"abscess bacterial\" is not the correct syp"
      ]
    },
    {
      "cell_type": "markdown",
      "id": "cb531ad4",
      "metadata": {
        "id": "cb531ad4"
      },
      "source": [
        "# Testing using Low Variance"
      ]
    },
    {
      "cell_type": "markdown",
      "id": "d5434559",
      "metadata": {
        "id": "d5434559"
      },
      "source": [
        "## Logistic Regression"
      ]
    },
    {
      "cell_type": "code",
      "execution_count": 12,
      "id": "188b6e94",
      "metadata": {
        "id": "188b6e94"
      },
      "outputs": [],
      "source": [
        "with open(os.path.join(root_dir,'low_var_features_lr.txt')) as file:\n",
        "    lines = [line.rstrip() for line in file]"
      ]
    },
    {
      "cell_type": "code",
      "execution_count": 13,
      "id": "63bccf96",
      "metadata": {
        "id": "63bccf96"
      },
      "outputs": [],
      "source": [
        "feature_names_lv= lines.copy()"
      ]
    },
    {
      "cell_type": "code",
      "execution_count": 14,
      "id": "fd8866c6",
      "metadata": {
        "colab": {
          "base_uri": "https://localhost:8080/"
        },
        "id": "fd8866c6",
        "outputId": "df5924ce-f6f2-452b-d32d-35905bde29c6"
      },
      "outputs": [
        {
          "output_type": "stream",
          "name": "stdout",
          "text": [
            "['facial paresis', 'muscle twitch', 'chill', 'fever', 'cough', 'decreased body weight']\n",
            "   pain  patient non compliance  fever  nausea  rale  pain abdominal  \\\n",
            "0     0                       0      1       0     0               0   \n",
            "\n",
            "   shortness of breath  pain chest  night sweat  hypotension  ...  \\\n",
            "0                    0           0            0            0  ...   \n",
            "\n",
            "   hypersomnia  focal seizures  dysuria  hacking cough  tremor  heartburn  \\\n",
            "0            0               0        0              0       0          0   \n",
            "\n",
            "   painful swallowing  sinus rhythm  asthenia  dyspnea on exertion  \n",
            "0                   0             0         0                    0  \n",
            "\n",
            "[1 rows x 100 columns]\n",
            "Best match for '[\"Alzheimer's disease\"]': 'Alzheimer's disease: dementia' with similarity score: 90\n",
            "Based on the symptoms you entered, there are chances that you are suffering from **[\"Alzheimer's disease\"]**.\n",
            "\n",
            "The primitive care we would suggest is **Rehabilitation and Occupational Therapy, Cognition-enhancing medication.** \n",
            "This recommendation is based on the symptoms you provided.\n",
            " However, please note that this is not a substitute for professional medical advice. We strongly recommend consulting a healthcare professional for further clarification and a proper diagnosis. Your health is important, and a medical professional can provide personalized guidance and care.\n"
          ]
        }
      ],
      "source": [
        "syp = ['facial paresis','muscle twitch','chill','fever','cough','decreased body weight']\n",
        "predicting_disease(syp,diagnose_list,feature_names_rf)"
      ]
    },
    {
      "cell_type": "code",
      "execution_count": 15,
      "id": "1d42f855",
      "metadata": {
        "colab": {
          "base_uri": "https://localhost:8080/"
        },
        "id": "1d42f855",
        "outputId": "af882ccb-3d38-4ba4-e9a6-d966f574ca21"
      },
      "outputs": [
        {
          "output_type": "stream",
          "name": "stdout",
          "text": [
            "['muscle twitch', 'chill', 'fever']\n",
            "   pain  patient non compliance  fever  nausea  rale  pain abdominal  \\\n",
            "0     0                       0      1       0     0               0   \n",
            "\n",
            "   shortness of breath  pain chest  night sweat  hypotension  ...  \\\n",
            "0                    0           0            0            0  ...   \n",
            "\n",
            "   hypersomnia  focal seizures  dysuria  hacking cough  tremor  heartburn  \\\n",
            "0            0               0        0              0       0          0   \n",
            "\n",
            "   painful swallowing  sinus rhythm  asthenia  dyspnea on exertion  \n",
            "0                   0             0         0                    0  \n",
            "\n",
            "[1 rows x 100 columns]\n",
            "Best match for '['cellulitis']': 'Cellulitis: skin infection' with similarity score: 90\n",
            "Based on the symptoms you entered, there are chances that you are suffering from **['cellulitis']**.\n",
            "\n",
            "The primitive care we would suggest is **Antibiotics and Penicillin** \n",
            "This recommendation is based on the symptoms you provided.\n",
            " However, please note that this is not a substitute for professional medical advice. We strongly recommend consulting a healthcare professional for further clarification and a proper diagnosis. Your health is important, and a medical professional can provide personalized guidance and care.\n"
          ]
        }
      ],
      "source": [
        "syp = ['abscess bacterial','muscle twitch','chill','fever','barking cough']\n",
        "predicting_disease(syp,diagnose_list,feature_names_rf)"
      ]
    },
    {
      "cell_type": "code",
      "execution_count": null,
      "id": "ee3d373f",
      "metadata": {
        "id": "ee3d373f"
      },
      "outputs": [],
      "source": []
    }
  ],
  "metadata": {
    "kernelspec": {
      "display_name": "Python 3 (ipykernel)",
      "language": "python",
      "name": "python3"
    },
    "language_info": {
      "codemirror_mode": {
        "name": "ipython",
        "version": 3
      },
      "file_extension": ".py",
      "mimetype": "text/x-python",
      "name": "python",
      "nbconvert_exporter": "python",
      "pygments_lexer": "ipython3",
      "version": "3.11.5"
    },
    "colab": {
      "provenance": [],
      "include_colab_link": true
    }
  },
  "nbformat": 4,
  "nbformat_minor": 5
}