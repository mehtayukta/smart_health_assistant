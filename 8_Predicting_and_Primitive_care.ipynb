{
  "cells": [
    {
      "cell_type": "markdown",
      "metadata": {
        "id": "view-in-github",
        "colab_type": "text"
      },
      "source": [
        "<a href=\"https://colab.research.google.com/github/webrockerz2020/smart_health_assistant/blob/main/8_Predicting_and_Primitive_care.ipynb\" target=\"_parent\"><img src=\"https://colab.research.google.com/assets/colab-badge.svg\" alt=\"Open In Colab\"/></a>"
      ]
    },
    {
      "cell_type": "code",
      "source": [
        "!pip install fuzzywuzzy"
      ],
      "metadata": {
        "colab": {
          "base_uri": "https://localhost:8080/"
        },
        "id": "u8g1m2od0Cou",
        "outputId": "00b2288e-eaef-4ca1-9842-cd946cff98c5"
      },
      "id": "u8g1m2od0Cou",
      "execution_count": null,
      "outputs": [
        {
          "output_type": "stream",
          "name": "stdout",
          "text": [
            "Requirement already satisfied: fuzzywuzzy in /usr/local/lib/python3.10/dist-packages (0.18.0)\n"
          ]
        }
      ]
    },
    {
      "cell_type": "code",
      "execution_count": null,
      "id": "62ca1540",
      "metadata": {
        "colab": {
          "base_uri": "https://localhost:8080/"
        },
        "id": "62ca1540",
        "outputId": "cc106af8-430e-4056-e103-4a02782f45b4"
      },
      "outputs": [
        {
          "output_type": "stream",
          "name": "stdout",
          "text": [
            "Drive already mounted at /content/drive/; to attempt to forcibly remount, call drive.mount(\"/content/drive/\", force_remount=True).\n"
          ]
        }
      ],
      "source": [
        "import pickle\n",
        "import pandas as pd\n",
        "from fuzzywuzzy import process\n",
        "\n",
        "import os\n",
        "#Connecting the driver\n",
        "from google.colab import drive\n",
        "\n",
        "drive.mount('/content/drive/')\n",
        "\n",
        "root_dir = '/content/drive/MyDrive/DAP/python_scripts'"
      ]
    },
    {
      "cell_type": "code",
      "execution_count": null,
      "id": "9898139e",
      "metadata": {
        "colab": {
          "base_uri": "https://localhost:8080/",
          "height": 143
        },
        "id": "9898139e",
        "outputId": "5807d5d7-dabf-432b-b15a-ff010f17db87"
      },
      "outputs": [
        {
          "output_type": "execute_result",
          "data": {
            "text/plain": [
              "   did                                           diagnose  \\\n",
              "0    1  Abdominal aortic aneurysm: (enlarged major blo...   \n",
              "1    2                                 Abdominal swelling   \n",
              "2    3                                   Abdominal trauma   \n",
              "\n",
              "                                                 pid  \n",
              "0  Stopping smoking may slow their growth. Small ...  \n",
              "1  Eating smaller meals may help prevent bloating...  \n",
              "2                                           Surgery.  "
            ],
            "text/html": [
              "\n",
              "  <div id=\"df-a3ca14ce-b805-4102-a256-5c9880c4d3c8\" class=\"colab-df-container\">\n",
              "    <div>\n",
              "<style scoped>\n",
              "    .dataframe tbody tr th:only-of-type {\n",
              "        vertical-align: middle;\n",
              "    }\n",
              "\n",
              "    .dataframe tbody tr th {\n",
              "        vertical-align: top;\n",
              "    }\n",
              "\n",
              "    .dataframe thead th {\n",
              "        text-align: right;\n",
              "    }\n",
              "</style>\n",
              "<table border=\"1\" class=\"dataframe\">\n",
              "  <thead>\n",
              "    <tr style=\"text-align: right;\">\n",
              "      <th></th>\n",
              "      <th>did</th>\n",
              "      <th>diagnose</th>\n",
              "      <th>pid</th>\n",
              "    </tr>\n",
              "  </thead>\n",
              "  <tbody>\n",
              "    <tr>\n",
              "      <th>0</th>\n",
              "      <td>1</td>\n",
              "      <td>Abdominal aortic aneurysm: (enlarged major blo...</td>\n",
              "      <td>Stopping smoking may slow their growth. Small ...</td>\n",
              "    </tr>\n",
              "    <tr>\n",
              "      <th>1</th>\n",
              "      <td>2</td>\n",
              "      <td>Abdominal swelling</td>\n",
              "      <td>Eating smaller meals may help prevent bloating...</td>\n",
              "    </tr>\n",
              "    <tr>\n",
              "      <th>2</th>\n",
              "      <td>3</td>\n",
              "      <td>Abdominal trauma</td>\n",
              "      <td>Surgery.</td>\n",
              "    </tr>\n",
              "  </tbody>\n",
              "</table>\n",
              "</div>\n",
              "    <div class=\"colab-df-buttons\">\n",
              "\n",
              "  <div class=\"colab-df-container\">\n",
              "    <button class=\"colab-df-convert\" onclick=\"convertToInteractive('df-a3ca14ce-b805-4102-a256-5c9880c4d3c8')\"\n",
              "            title=\"Convert this dataframe to an interactive table.\"\n",
              "            style=\"display:none;\">\n",
              "\n",
              "  <svg xmlns=\"http://www.w3.org/2000/svg\" height=\"24px\" viewBox=\"0 -960 960 960\">\n",
              "    <path d=\"M120-120v-720h720v720H120Zm60-500h600v-160H180v160Zm220 220h160v-160H400v160Zm0 220h160v-160H400v160ZM180-400h160v-160H180v160Zm440 0h160v-160H620v160ZM180-180h160v-160H180v160Zm440 0h160v-160H620v160Z\"/>\n",
              "  </svg>\n",
              "    </button>\n",
              "\n",
              "  <style>\n",
              "    .colab-df-container {\n",
              "      display:flex;\n",
              "      gap: 12px;\n",
              "    }\n",
              "\n",
              "    .colab-df-convert {\n",
              "      background-color: #E8F0FE;\n",
              "      border: none;\n",
              "      border-radius: 50%;\n",
              "      cursor: pointer;\n",
              "      display: none;\n",
              "      fill: #1967D2;\n",
              "      height: 32px;\n",
              "      padding: 0 0 0 0;\n",
              "      width: 32px;\n",
              "    }\n",
              "\n",
              "    .colab-df-convert:hover {\n",
              "      background-color: #E2EBFA;\n",
              "      box-shadow: 0px 1px 2px rgba(60, 64, 67, 0.3), 0px 1px 3px 1px rgba(60, 64, 67, 0.15);\n",
              "      fill: #174EA6;\n",
              "    }\n",
              "\n",
              "    .colab-df-buttons div {\n",
              "      margin-bottom: 4px;\n",
              "    }\n",
              "\n",
              "    [theme=dark] .colab-df-convert {\n",
              "      background-color: #3B4455;\n",
              "      fill: #D2E3FC;\n",
              "    }\n",
              "\n",
              "    [theme=dark] .colab-df-convert:hover {\n",
              "      background-color: #434B5C;\n",
              "      box-shadow: 0px 1px 3px 1px rgba(0, 0, 0, 0.15);\n",
              "      filter: drop-shadow(0px 1px 2px rgba(0, 0, 0, 0.3));\n",
              "      fill: #FFFFFF;\n",
              "    }\n",
              "  </style>\n",
              "\n",
              "    <script>\n",
              "      const buttonEl =\n",
              "        document.querySelector('#df-a3ca14ce-b805-4102-a256-5c9880c4d3c8 button.colab-df-convert');\n",
              "      buttonEl.style.display =\n",
              "        google.colab.kernel.accessAllowed ? 'block' : 'none';\n",
              "\n",
              "      async function convertToInteractive(key) {\n",
              "        const element = document.querySelector('#df-a3ca14ce-b805-4102-a256-5c9880c4d3c8');\n",
              "        const dataTable =\n",
              "          await google.colab.kernel.invokeFunction('convertToInteractive',\n",
              "                                                    [key], {});\n",
              "        if (!dataTable) return;\n",
              "\n",
              "        const docLinkHtml = 'Like what you see? Visit the ' +\n",
              "          '<a target=\"_blank\" href=https://colab.research.google.com/notebooks/data_table.ipynb>data table notebook</a>'\n",
              "          + ' to learn more about interactive tables.';\n",
              "        element.innerHTML = '';\n",
              "        dataTable['output_type'] = 'display_data';\n",
              "        await google.colab.output.renderOutput(dataTable, element);\n",
              "        const docLink = document.createElement('div');\n",
              "        docLink.innerHTML = docLinkHtml;\n",
              "        element.appendChild(docLink);\n",
              "      }\n",
              "    </script>\n",
              "  </div>\n",
              "\n",
              "\n",
              "<div id=\"df-14f3e7f8-34db-45df-85b0-af583c35916c\">\n",
              "  <button class=\"colab-df-quickchart\" onclick=\"quickchart('df-14f3e7f8-34db-45df-85b0-af583c35916c')\"\n",
              "            title=\"Suggest charts\"\n",
              "            style=\"display:none;\">\n",
              "\n",
              "<svg xmlns=\"http://www.w3.org/2000/svg\" height=\"24px\"viewBox=\"0 0 24 24\"\n",
              "     width=\"24px\">\n",
              "    <g>\n",
              "        <path d=\"M19 3H5c-1.1 0-2 .9-2 2v14c0 1.1.9 2 2 2h14c1.1 0 2-.9 2-2V5c0-1.1-.9-2-2-2zM9 17H7v-7h2v7zm4 0h-2V7h2v10zm4 0h-2v-4h2v4z\"/>\n",
              "    </g>\n",
              "</svg>\n",
              "  </button>\n",
              "\n",
              "<style>\n",
              "  .colab-df-quickchart {\n",
              "      --bg-color: #E8F0FE;\n",
              "      --fill-color: #1967D2;\n",
              "      --hover-bg-color: #E2EBFA;\n",
              "      --hover-fill-color: #174EA6;\n",
              "      --disabled-fill-color: #AAA;\n",
              "      --disabled-bg-color: #DDD;\n",
              "  }\n",
              "\n",
              "  [theme=dark] .colab-df-quickchart {\n",
              "      --bg-color: #3B4455;\n",
              "      --fill-color: #D2E3FC;\n",
              "      --hover-bg-color: #434B5C;\n",
              "      --hover-fill-color: #FFFFFF;\n",
              "      --disabled-bg-color: #3B4455;\n",
              "      --disabled-fill-color: #666;\n",
              "  }\n",
              "\n",
              "  .colab-df-quickchart {\n",
              "    background-color: var(--bg-color);\n",
              "    border: none;\n",
              "    border-radius: 50%;\n",
              "    cursor: pointer;\n",
              "    display: none;\n",
              "    fill: var(--fill-color);\n",
              "    height: 32px;\n",
              "    padding: 0;\n",
              "    width: 32px;\n",
              "  }\n",
              "\n",
              "  .colab-df-quickchart:hover {\n",
              "    background-color: var(--hover-bg-color);\n",
              "    box-shadow: 0 1px 2px rgba(60, 64, 67, 0.3), 0 1px 3px 1px rgba(60, 64, 67, 0.15);\n",
              "    fill: var(--button-hover-fill-color);\n",
              "  }\n",
              "\n",
              "  .colab-df-quickchart-complete:disabled,\n",
              "  .colab-df-quickchart-complete:disabled:hover {\n",
              "    background-color: var(--disabled-bg-color);\n",
              "    fill: var(--disabled-fill-color);\n",
              "    box-shadow: none;\n",
              "  }\n",
              "\n",
              "  .colab-df-spinner {\n",
              "    border: 2px solid var(--fill-color);\n",
              "    border-color: transparent;\n",
              "    border-bottom-color: var(--fill-color);\n",
              "    animation:\n",
              "      spin 1s steps(1) infinite;\n",
              "  }\n",
              "\n",
              "  @keyframes spin {\n",
              "    0% {\n",
              "      border-color: transparent;\n",
              "      border-bottom-color: var(--fill-color);\n",
              "      border-left-color: var(--fill-color);\n",
              "    }\n",
              "    20% {\n",
              "      border-color: transparent;\n",
              "      border-left-color: var(--fill-color);\n",
              "      border-top-color: var(--fill-color);\n",
              "    }\n",
              "    30% {\n",
              "      border-color: transparent;\n",
              "      border-left-color: var(--fill-color);\n",
              "      border-top-color: var(--fill-color);\n",
              "      border-right-color: var(--fill-color);\n",
              "    }\n",
              "    40% {\n",
              "      border-color: transparent;\n",
              "      border-right-color: var(--fill-color);\n",
              "      border-top-color: var(--fill-color);\n",
              "    }\n",
              "    60% {\n",
              "      border-color: transparent;\n",
              "      border-right-color: var(--fill-color);\n",
              "    }\n",
              "    80% {\n",
              "      border-color: transparent;\n",
              "      border-right-color: var(--fill-color);\n",
              "      border-bottom-color: var(--fill-color);\n",
              "    }\n",
              "    90% {\n",
              "      border-color: transparent;\n",
              "      border-bottom-color: var(--fill-color);\n",
              "    }\n",
              "  }\n",
              "</style>\n",
              "\n",
              "  <script>\n",
              "    async function quickchart(key) {\n",
              "      const quickchartButtonEl =\n",
              "        document.querySelector('#' + key + ' button');\n",
              "      quickchartButtonEl.disabled = true;  // To prevent multiple clicks.\n",
              "      quickchartButtonEl.classList.add('colab-df-spinner');\n",
              "      try {\n",
              "        const charts = await google.colab.kernel.invokeFunction(\n",
              "            'suggestCharts', [key], {});\n",
              "      } catch (error) {\n",
              "        console.error('Error during call to suggestCharts:', error);\n",
              "      }\n",
              "      quickchartButtonEl.classList.remove('colab-df-spinner');\n",
              "      quickchartButtonEl.classList.add('colab-df-quickchart-complete');\n",
              "    }\n",
              "    (() => {\n",
              "      let quickchartButtonEl =\n",
              "        document.querySelector('#df-14f3e7f8-34db-45df-85b0-af583c35916c button');\n",
              "      quickchartButtonEl.style.display =\n",
              "        google.colab.kernel.accessAllowed ? 'block' : 'none';\n",
              "    })();\n",
              "  </script>\n",
              "</div>\n",
              "\n",
              "    </div>\n",
              "  </div>\n"
            ]
          },
          "metadata": {},
          "execution_count": 86
        }
      ],
      "source": [
        "# getting primitive care\n",
        "df_primitive_care = pd.read_csv(os.path.join(root_dir,\"prec_t.csv\"))\n",
        "diagnose_list = df_primitive_care['diagnose'].tolist()\n",
        "df_primitive_care.head(3)"
      ]
    },
    {
      "cell_type": "code",
      "execution_count": 194,
      "id": "2c4ecf8d",
      "metadata": {
        "id": "2c4ecf8d"
      },
      "outputs": [],
      "source": [
        "def predicting_disease(syp,diagnose_list,feature_names,loaded_model):\n",
        "    #print(loaded_model)\n",
        "    columns_list=feature_names.copy()\n",
        "    for col in syp:\n",
        "        if col not in feature_names:\n",
        "            print(col)\n",
        "            syp.remove(col)\n",
        "    #print(syp)\n",
        "    temp_df = pd.DataFrame(0, index=[0], columns=columns_list)\n",
        "    temp_df.loc[0, syp] = 1\n",
        "    #print(syp)\n",
        "    #print(temp_df)\n",
        "    predicted_class_1 ='a'\n",
        "    predicted_class_1 = loaded_model.predict(temp_df)\n",
        "    #print(\"Predicted class:\", predicted_class_1)\n",
        "    # getting primitive care\n",
        "    predicted_class_1 = str(predicted_class_1)\n",
        "    diagnose_list = [str(item) for item in diagnose_list]\n",
        "    best_match, similarity_score = process.extractOne(predicted_class_1, diagnose_list)\n",
        "    threshold = 70\n",
        "    if similarity_score >= threshold:\n",
        "        print(f\"Best match for '{predicted_class_1}': '{best_match}' with similarity score: {similarity_score}\")\n",
        "        primitive_care= df_primitive_care[df_primitive_care['diagnose']==best_match]\n",
        "        primitive_care = primitive_care['pid'].iloc[0]\n",
        "        message = f\"Based on the symptoms you entered, there are chances that you are suffering from **{predicted_class_1}**.\\n\"\\\n",
        "          f\"\\nThe primitive care we would suggest is **{primitive_care}** \\nThis recommendation is based on the symptoms you provided.\\n \"\\\n",
        "        \"However, please note that this is not a substitute for professional medical advice.\\n We strongly recommend consulting a healthcare professional \"\\\n",
        "          \"for further clarification and a proper diagnosis.\\n Your health is important, and a medical professional can provide personalized guidance and care.\"\n",
        "        print(message)\n",
        "\n",
        "    else:\n",
        "        print(f\" Diseases Predicted '{predicted_class_1}' in the is not monitored.\")\n"
      ]
    },
    {
      "cell_type": "markdown",
      "id": "fa44665b",
      "metadata": {
        "id": "fa44665b"
      },
      "source": [
        "# Testing using Random Forest"
      ]
    },
    {
      "cell_type": "markdown",
      "id": "edc32596",
      "metadata": {
        "id": "edc32596"
      },
      "source": [
        "## Logistic Regression"
      ]
    },
    {
      "cell_type": "code",
      "execution_count": 153,
      "id": "ed73b637",
      "metadata": {
        "colab": {
          "base_uri": "https://localhost:8080/"
        },
        "id": "ed73b637",
        "outputId": "de659bae-9fe5-4ede-d111-c560c2ab1dbb"
      },
      "outputs": [
        {
          "output_type": "stream",
          "name": "stderr",
          "text": [
            "/usr/local/lib/python3.10/dist-packages/sklearn/base.py:318: UserWarning: Trying to unpickle estimator LogisticRegression from version 1.3.0 when using version 1.2.2. This might lead to breaking code or invalid results. Use at your own risk. For more info please refer to:\n",
            "https://scikit-learn.org/stable/model_persistence.html#security-maintainability-limitations\n",
            "  warnings.warn(\n"
          ]
        }
      ],
      "source": [
        "with open(os.path.join(root_dir,'logistic_regression_model_rd.pkl'), 'rb') as file:\n",
        "    loaded_model_rf = pickle.load(file)\n",
        "\n",
        "with open(os.path.join(root_dir,'rand_for_features_lr.txt')) as file:\n",
        "    lines = [line.rstrip() for line in file]\n",
        "\n",
        "feature_names_rf = lines.copy()"
      ]
    },
    {
      "cell_type": "code",
      "execution_count": 154,
      "id": "3b499420",
      "metadata": {
        "id": "3b499420"
      },
      "outputs": [],
      "source": [
        "syp = ['facial paresis','muscle twitch','chill','fever','cough','decreased body weight']"
      ]
    },
    {
      "cell_type": "code",
      "execution_count": 155,
      "id": "73e92f81",
      "metadata": {
        "colab": {
          "base_uri": "https://localhost:8080/"
        },
        "id": "73e92f81",
        "outputId": "0798b733-3112-4bff-f7f6-3496c3634b61"
      },
      "outputs": [
        {
          "output_type": "stream",
          "name": "stdout",
          "text": [
            "Best match for '[\"Alzheimer's disease\"]': 'Alzheimer's disease: dementia' with similarity score: 90\n",
            "Based on the symptoms you entered, there are chances that you are suffering from **[\"Alzheimer's disease\"]**.\n",
            "\n",
            "The primitive care we would suggest is **Rehabilitation and Occupational Therapy, Cognition-enhancing medication.** \n",
            "This recommendation is based on the symptoms you provided.\n",
            " However, please note that this is not a substitute for professional medical advice. We strongly recommend consulting a healthcare professional for further clarification and a proper diagnosis. Your health is important, and a medical professional can provide personalized guidance and care.\n"
          ]
        }
      ],
      "source": [
        "predicting_disease(syp,diagnose_list,feature_names_rf,loaded_model_rf)"
      ]
    },
    {
      "cell_type": "markdown",
      "source": [
        "## Gradient Boosting"
      ],
      "metadata": {
        "id": "a3Nfz1VwJqcM"
      },
      "id": "a3Nfz1VwJqcM"
    },
    {
      "cell_type": "code",
      "source": [
        "with open(os.path.join(root_dir,'gradient_boost_model_rd.pkl'), 'rb') as file:\n",
        "    loaded_model_gb = pickle.load(file)"
      ],
      "metadata": {
        "id": "-OVowd5xF9y_"
      },
      "id": "-OVowd5xF9y_",
      "execution_count": 197,
      "outputs": []
    },
    {
      "cell_type": "code",
      "source": [
        "with open(os.path.join(root_dir,'rand_for_features_lr.txt')) as file:\n",
        "    lines = [line.rstrip() for line in file]"
      ],
      "metadata": {
        "id": "jIL2u_YmGLUQ"
      },
      "id": "jIL2u_YmGLUQ",
      "execution_count": 198,
      "outputs": []
    },
    {
      "cell_type": "code",
      "source": [
        "feature_names_rf = lines.copy()"
      ],
      "metadata": {
        "id": "7T7Fv_ElGODH"
      },
      "id": "7T7Fv_ElGODH",
      "execution_count": 199,
      "outputs": []
    },
    {
      "cell_type": "code",
      "source": [
        "syp = ['facial paresis','muscle twitch','chill','fever','cough','decreased body weight']"
      ],
      "metadata": {
        "id": "zpR5SxQeGQCq"
      },
      "id": "zpR5SxQeGQCq",
      "execution_count": 200,
      "outputs": []
    },
    {
      "cell_type": "code",
      "source": [
        "predicting_disease(syp,diagnose_list,feature_names_rf,loaded_model_gb)"
      ],
      "metadata": {
        "id": "8n70U8EoGS4L",
        "colab": {
          "base_uri": "https://localhost:8080/"
        },
        "outputId": "15f047ad-b90c-4cc5-c6c2-8c7e7ef0f85e"
      },
      "id": "8n70U8EoGS4L",
      "execution_count": 201,
      "outputs": [
        {
          "output_type": "stream",
          "name": "stdout",
          "text": [
            "Best match for '[\"Alzheimer's disease\"]': 'Alzheimer's disease: dementia' with similarity score: 90\n",
            "Based on the symptoms you entered, there are chances that you are suffering from **[\"Alzheimer's disease\"]**.\n",
            "\n",
            "The primitive care we would suggest is **Rehabilitation and Occupational Therapy, Cognition-enhancing medication.** \n",
            "This recommendation is based on the symptoms you provided.\n",
            " However, please note that this is not a substitute for professional medical advice.\n",
            " We strongly recommend consulting a healthcare professional for further clarification and a proper diagnosis.\n",
            " Your health is important, and a medical professional can provide personalized guidance and care.\n"
          ]
        }
      ]
    },
    {
      "cell_type": "markdown",
      "id": "cb531ad4",
      "metadata": {
        "id": "cb531ad4"
      },
      "source": [
        "# Testing using Low Variance"
      ]
    },
    {
      "cell_type": "markdown",
      "id": "d5434559",
      "metadata": {
        "id": "d5434559"
      },
      "source": [
        "## Logistic Regression"
      ]
    },
    {
      "cell_type": "code",
      "source": [
        "with open(os.path.join(root_dir,'logistic_regression_model_lv.pkl'), 'rb') as file:\n",
        "    loaded_model_lv = pickle.load(file)"
      ],
      "metadata": {
        "id": "9KUo3B65Mkc9",
        "colab": {
          "base_uri": "https://localhost:8080/"
        },
        "outputId": "a1231698-5702-4d38-e477-523a1c525c07"
      },
      "id": "9KUo3B65Mkc9",
      "execution_count": 166,
      "outputs": [
        {
          "output_type": "stream",
          "name": "stderr",
          "text": [
            "/usr/local/lib/python3.10/dist-packages/sklearn/base.py:318: UserWarning: Trying to unpickle estimator LogisticRegression from version 1.3.0 when using version 1.2.2. This might lead to breaking code or invalid results. Use at your own risk. For more info please refer to:\n",
            "https://scikit-learn.org/stable/model_persistence.html#security-maintainability-limitations\n",
            "  warnings.warn(\n"
          ]
        }
      ]
    },
    {
      "cell_type": "code",
      "execution_count": 168,
      "id": "188b6e94",
      "metadata": {
        "id": "188b6e94"
      },
      "outputs": [],
      "source": [
        "with open(os.path.join(root_dir,'low_var_features_lr.txt')) as file:\n",
        "    lines = [line.rstrip() for line in file]"
      ]
    },
    {
      "cell_type": "code",
      "execution_count": 169,
      "id": "63bccf96",
      "metadata": {
        "id": "63bccf96"
      },
      "outputs": [],
      "source": [
        "feature_names_lv= lines.copy()"
      ]
    },
    {
      "cell_type": "code",
      "execution_count": 170,
      "id": "fd8866c6",
      "metadata": {
        "id": "fd8866c6",
        "colab": {
          "base_uri": "https://localhost:8080/"
        },
        "outputId": "37812b0d-10aa-4cc6-c8e8-a6da38f34fc6"
      },
      "outputs": [
        {
          "output_type": "stream",
          "name": "stdout",
          "text": [
            "Best match for '[\"Alzheimer's disease\"]': 'Alzheimer's disease: dementia' with similarity score: 90\n",
            "Based on the symptoms you entered, there are chances that you are suffering from **[\"Alzheimer's disease\"]**.\n",
            "\n",
            "The primitive care we would suggest is **Rehabilitation and Occupational Therapy, Cognition-enhancing medication.** \n",
            "This recommendation is based on the symptoms you provided.\n",
            " However, please note that this is not a substitute for professional medical advice. We strongly recommend consulting a healthcare professional for further clarification and a proper diagnosis. Your health is important, and a medical professional can provide personalized guidance and care.\n"
          ]
        }
      ],
      "source": [
        "syp = ['facial paresis','muscle twitch','chill','fever','cough','decreased body weight']\n",
        "predicting_disease(syp,diagnose_list,feature_names_lv,loaded_model_lv)"
      ]
    },
    {
      "cell_type": "markdown",
      "source": [
        "## Gradient Boosting"
      ],
      "metadata": {
        "id": "4bVV9UG8J_H7"
      },
      "id": "4bVV9UG8J_H7"
    },
    {
      "cell_type": "code",
      "source": [
        "with open(os.path.join(root_dir,'gradient_boost_model_lv.pkl'), 'rb') as file:\n",
        "    loaded_model_gb_lv = pickle.load(file)"
      ],
      "metadata": {
        "id": "j3XByAFiKDFO"
      },
      "id": "j3XByAFiKDFO",
      "execution_count": 202,
      "outputs": []
    },
    {
      "cell_type": "code",
      "source": [
        "syp = ['facial paresis','muscle twitch','chill','fever','cough','decreased body weight']\n",
        "predicting_disease(syp,diagnose_list,feature_names_lv,loaded_model_gb_lv)"
      ],
      "metadata": {
        "id": "G6QgIfQxKRs2",
        "colab": {
          "base_uri": "https://localhost:8080/"
        },
        "outputId": "77fd0a1b-7116-41ec-e751-05b6622aa767"
      },
      "id": "G6QgIfQxKRs2",
      "execution_count": 203,
      "outputs": [
        {
          "output_type": "stream",
          "name": "stdout",
          "text": [
            "Best match for '[\"Alzheimer's disease\"]': 'Alzheimer's disease: dementia' with similarity score: 90\n",
            "Based on the symptoms you entered, there are chances that you are suffering from **[\"Alzheimer's disease\"]**.\n",
            "\n",
            "The primitive care we would suggest is **Rehabilitation and Occupational Therapy, Cognition-enhancing medication.** \n",
            "This recommendation is based on the symptoms you provided.\n",
            " However, please note that this is not a substitute for professional medical advice.\n",
            " We strongly recommend consulting a healthcare professional for further clarification and a proper diagnosis.\n",
            " Your health is important, and a medical professional can provide personalized guidance and care.\n"
          ]
        }
      ]
    },
    {
      "cell_type": "markdown",
      "source": [
        "## Random Forest"
      ],
      "metadata": {
        "id": "ms0edl9qSMq0"
      },
      "id": "ms0edl9qSMq0"
    },
    {
      "cell_type": "code",
      "source": [
        "with open(os.path.join(root_dir,'random_forest_model_lv.pkl'), 'rb') as file:\n",
        "    loaded_model_rf_lv = pickle.load(file)"
      ],
      "metadata": {
        "id": "M2rcCmqbSKJy"
      },
      "id": "M2rcCmqbSKJy",
      "execution_count": 187,
      "outputs": []
    },
    {
      "cell_type": "code",
      "source": [
        "syp = ['chill','agitation','energy increased','blackout','cough']\n",
        "predicting_disease(syp, diagnose_list, feature_names_lv, loaded_model_rf_lv)"
      ],
      "metadata": {
        "colab": {
          "base_uri": "https://localhost:8080/"
        },
        "id": "PgtEVZRYSKId",
        "outputId": "4cef496b-0ce7-4bf7-88a6-2863564e43fc"
      },
      "id": "PgtEVZRYSKId",
      "execution_count": 190,
      "outputs": [
        {
          "output_type": "stream",
          "name": "stderr",
          "text": [
            "/usr/local/lib/python3.10/dist-packages/sklearn/base.py:432: UserWarning: X has feature names, but RandomForestClassifier was fitted without feature names\n",
            "  warnings.warn(\n"
          ]
        },
        {
          "output_type": "stream",
          "name": "stdout",
          "text": [
            "Best match for '['hernia']': 'Hernia' with similarity score: 100\n",
            "Based on the symptoms you entered, there are chances that you are suffering from **['hernia']**.\n",
            "\n",
            "The primitive care we would suggest is **Supportive care: Monitoring for changes or improvement; Surgery: Laparoscopic surgery and Hernia repair; Devices: Supportive device.** \n",
            "This recommendation is based on the symptoms you provided.\n",
            " However, please note that this is not a substitute for professional medical advice. We strongly recommend consulting a healthcare professional for further clarification and a proper diagnosis. Your health is important, and a medical professional can provide personalized guidance and care.\n"
          ]
        }
      ]
    },
    {
      "cell_type": "code",
      "source": [
        "syp = ['adhesion','arthritis','energy increased','bronchitis','cough']\n",
        "predicting_disease(syp, diagnose_list, feature_names_lv, loaded_model_rf_lv)"
      ],
      "metadata": {
        "colab": {
          "base_uri": "https://localhost:8080/",
          "height": 408
        },
        "id": "MeqxyUlYnaZc",
        "outputId": "9d5d5258-6875-4b0d-a125-5b8ab2187afd"
      },
      "id": "MeqxyUlYnaZc",
      "execution_count": null,
      "outputs": [
        {
          "output_type": "stream",
          "name": "stdout",
          "text": [
            "adhesion\n",
            "bronchitis\n"
          ]
        },
        {
          "output_type": "stream",
          "name": "stderr",
          "text": [
            "/usr/local/lib/python3.10/dist-packages/sklearn/base.py:432: UserWarning: X has feature names, but RandomForestClassifier was fitted without feature names\n",
            "  warnings.warn(\n"
          ]
        },
        {
          "output_type": "error",
          "ename": "ValueError",
          "evalue": "ignored",
          "traceback": [
            "\u001b[0;31m---------------------------------------------------------------------------\u001b[0m",
            "\u001b[0;31mValueError\u001b[0m                                Traceback (most recent call last)",
            "\u001b[0;32m<ipython-input-150-af71afe03bf5>\u001b[0m in \u001b[0;36m<cell line: 2>\u001b[0;34m()\u001b[0m\n\u001b[1;32m      1\u001b[0m \u001b[0msyp\u001b[0m \u001b[0;34m=\u001b[0m \u001b[0;34m[\u001b[0m\u001b[0;34m'adhesion'\u001b[0m\u001b[0;34m,\u001b[0m\u001b[0;34m'arthritis'\u001b[0m\u001b[0;34m,\u001b[0m\u001b[0;34m'energy increased'\u001b[0m\u001b[0;34m,\u001b[0m\u001b[0;34m'bronchitis'\u001b[0m\u001b[0;34m,\u001b[0m\u001b[0;34m'cough'\u001b[0m\u001b[0;34m]\u001b[0m\u001b[0;34m\u001b[0m\u001b[0;34m\u001b[0m\u001b[0m\n\u001b[0;32m----> 2\u001b[0;31m \u001b[0mpredicting_disease\u001b[0m\u001b[0;34m(\u001b[0m\u001b[0msyp\u001b[0m\u001b[0;34m,\u001b[0m \u001b[0mdiagnose_list\u001b[0m\u001b[0;34m,\u001b[0m \u001b[0mfeature_names_lv\u001b[0m\u001b[0;34m,\u001b[0m \u001b[0mloaded_model_rf_lv\u001b[0m\u001b[0;34m)\u001b[0m\u001b[0;34m\u001b[0m\u001b[0;34m\u001b[0m\u001b[0m\n\u001b[0m",
            "\u001b[0;32m<ipython-input-93-820344731efd>\u001b[0m in \u001b[0;36mpredicting_disease\u001b[0;34m(syp, diagnose_list, feature_names, loaded_model)\u001b[0m\n\u001b[1;32m     12\u001b[0m     \u001b[0;31m#print(temp_df)\u001b[0m\u001b[0;34m\u001b[0m\u001b[0;34m\u001b[0m\u001b[0m\n\u001b[1;32m     13\u001b[0m     \u001b[0mpredicted_class_1\u001b[0m \u001b[0;34m=\u001b[0m\u001b[0;34m'a'\u001b[0m\u001b[0;34m\u001b[0m\u001b[0;34m\u001b[0m\u001b[0m\n\u001b[0;32m---> 14\u001b[0;31m     \u001b[0mpredicted_class_1\u001b[0m \u001b[0;34m=\u001b[0m \u001b[0mloaded_model\u001b[0m\u001b[0;34m.\u001b[0m\u001b[0mpredict\u001b[0m\u001b[0;34m(\u001b[0m\u001b[0mtemp_df\u001b[0m\u001b[0;34m)\u001b[0m\u001b[0;34m\u001b[0m\u001b[0;34m\u001b[0m\u001b[0m\n\u001b[0m\u001b[1;32m     15\u001b[0m     \u001b[0;31m#print(\"Predicted class:\", predicted_class_1)\u001b[0m\u001b[0;34m\u001b[0m\u001b[0;34m\u001b[0m\u001b[0m\n\u001b[1;32m     16\u001b[0m     \u001b[0;31m# getting primitive care\u001b[0m\u001b[0;34m\u001b[0m\u001b[0;34m\u001b[0m\u001b[0m\n",
            "\u001b[0;32m/usr/local/lib/python3.10/dist-packages/sklearn/ensemble/_forest.py\u001b[0m in \u001b[0;36mpredict\u001b[0;34m(self, X)\u001b[0m\n\u001b[1;32m    818\u001b[0m             \u001b[0mThe\u001b[0m \u001b[0mpredicted\u001b[0m \u001b[0mclasses\u001b[0m\u001b[0;34m.\u001b[0m\u001b[0;34m\u001b[0m\u001b[0;34m\u001b[0m\u001b[0m\n\u001b[1;32m    819\u001b[0m         \"\"\"\n\u001b[0;32m--> 820\u001b[0;31m         \u001b[0mproba\u001b[0m \u001b[0;34m=\u001b[0m \u001b[0mself\u001b[0m\u001b[0;34m.\u001b[0m\u001b[0mpredict_proba\u001b[0m\u001b[0;34m(\u001b[0m\u001b[0mX\u001b[0m\u001b[0;34m)\u001b[0m\u001b[0;34m\u001b[0m\u001b[0;34m\u001b[0m\u001b[0m\n\u001b[0m\u001b[1;32m    821\u001b[0m \u001b[0;34m\u001b[0m\u001b[0m\n\u001b[1;32m    822\u001b[0m         \u001b[0;32mif\u001b[0m \u001b[0mself\u001b[0m\u001b[0;34m.\u001b[0m\u001b[0mn_outputs_\u001b[0m \u001b[0;34m==\u001b[0m \u001b[0;36m1\u001b[0m\u001b[0;34m:\u001b[0m\u001b[0;34m\u001b[0m\u001b[0;34m\u001b[0m\u001b[0m\n",
            "\u001b[0;32m/usr/local/lib/python3.10/dist-packages/sklearn/ensemble/_forest.py\u001b[0m in \u001b[0;36mpredict_proba\u001b[0;34m(self, X)\u001b[0m\n\u001b[1;32m    860\u001b[0m         \u001b[0mcheck_is_fitted\u001b[0m\u001b[0;34m(\u001b[0m\u001b[0mself\u001b[0m\u001b[0;34m)\u001b[0m\u001b[0;34m\u001b[0m\u001b[0;34m\u001b[0m\u001b[0m\n\u001b[1;32m    861\u001b[0m         \u001b[0;31m# Check data\u001b[0m\u001b[0;34m\u001b[0m\u001b[0;34m\u001b[0m\u001b[0m\n\u001b[0;32m--> 862\u001b[0;31m         \u001b[0mX\u001b[0m \u001b[0;34m=\u001b[0m \u001b[0mself\u001b[0m\u001b[0;34m.\u001b[0m\u001b[0m_validate_X_predict\u001b[0m\u001b[0;34m(\u001b[0m\u001b[0mX\u001b[0m\u001b[0;34m)\u001b[0m\u001b[0;34m\u001b[0m\u001b[0;34m\u001b[0m\u001b[0m\n\u001b[0m\u001b[1;32m    863\u001b[0m \u001b[0;34m\u001b[0m\u001b[0m\n\u001b[1;32m    864\u001b[0m         \u001b[0;31m# Assign chunk of trees to jobs\u001b[0m\u001b[0;34m\u001b[0m\u001b[0;34m\u001b[0m\u001b[0m\n",
            "\u001b[0;32m/usr/local/lib/python3.10/dist-packages/sklearn/ensemble/_forest.py\u001b[0m in \u001b[0;36m_validate_X_predict\u001b[0;34m(self, X)\u001b[0m\n\u001b[1;32m    600\u001b[0m         Validate X whenever one tries to predict, apply, predict_proba.\"\"\"\n\u001b[1;32m    601\u001b[0m         \u001b[0mcheck_is_fitted\u001b[0m\u001b[0;34m(\u001b[0m\u001b[0mself\u001b[0m\u001b[0;34m)\u001b[0m\u001b[0;34m\u001b[0m\u001b[0;34m\u001b[0m\u001b[0m\n\u001b[0;32m--> 602\u001b[0;31m         \u001b[0mX\u001b[0m \u001b[0;34m=\u001b[0m \u001b[0mself\u001b[0m\u001b[0;34m.\u001b[0m\u001b[0m_validate_data\u001b[0m\u001b[0;34m(\u001b[0m\u001b[0mX\u001b[0m\u001b[0;34m,\u001b[0m \u001b[0mdtype\u001b[0m\u001b[0;34m=\u001b[0m\u001b[0mDTYPE\u001b[0m\u001b[0;34m,\u001b[0m \u001b[0maccept_sparse\u001b[0m\u001b[0;34m=\u001b[0m\u001b[0;34m\"csr\"\u001b[0m\u001b[0;34m,\u001b[0m \u001b[0mreset\u001b[0m\u001b[0;34m=\u001b[0m\u001b[0;32mFalse\u001b[0m\u001b[0;34m)\u001b[0m\u001b[0;34m\u001b[0m\u001b[0;34m\u001b[0m\u001b[0m\n\u001b[0m\u001b[1;32m    603\u001b[0m         \u001b[0;32mif\u001b[0m \u001b[0missparse\u001b[0m\u001b[0;34m(\u001b[0m\u001b[0mX\u001b[0m\u001b[0;34m)\u001b[0m \u001b[0;32mand\u001b[0m \u001b[0;34m(\u001b[0m\u001b[0mX\u001b[0m\u001b[0;34m.\u001b[0m\u001b[0mindices\u001b[0m\u001b[0;34m.\u001b[0m\u001b[0mdtype\u001b[0m \u001b[0;34m!=\u001b[0m \u001b[0mnp\u001b[0m\u001b[0;34m.\u001b[0m\u001b[0mintc\u001b[0m \u001b[0;32mor\u001b[0m \u001b[0mX\u001b[0m\u001b[0;34m.\u001b[0m\u001b[0mindptr\u001b[0m\u001b[0;34m.\u001b[0m\u001b[0mdtype\u001b[0m \u001b[0;34m!=\u001b[0m \u001b[0mnp\u001b[0m\u001b[0;34m.\u001b[0m\u001b[0mintc\u001b[0m\u001b[0;34m)\u001b[0m\u001b[0;34m:\u001b[0m\u001b[0;34m\u001b[0m\u001b[0;34m\u001b[0m\u001b[0m\n\u001b[1;32m    604\u001b[0m             \u001b[0;32mraise\u001b[0m \u001b[0mValueError\u001b[0m\u001b[0;34m(\u001b[0m\u001b[0;34m\"No support for np.int64 index based sparse matrices\"\u001b[0m\u001b[0;34m)\u001b[0m\u001b[0;34m\u001b[0m\u001b[0;34m\u001b[0m\u001b[0m\n",
            "\u001b[0;32m/usr/local/lib/python3.10/dist-packages/sklearn/base.py\u001b[0m in \u001b[0;36m_validate_data\u001b[0;34m(self, X, y, reset, validate_separately, **check_params)\u001b[0m\n\u001b[1;32m    586\u001b[0m \u001b[0;34m\u001b[0m\u001b[0m\n\u001b[1;32m    587\u001b[0m         \u001b[0;32mif\u001b[0m \u001b[0;32mnot\u001b[0m \u001b[0mno_val_X\u001b[0m \u001b[0;32mand\u001b[0m \u001b[0mcheck_params\u001b[0m\u001b[0;34m.\u001b[0m\u001b[0mget\u001b[0m\u001b[0;34m(\u001b[0m\u001b[0;34m\"ensure_2d\"\u001b[0m\u001b[0;34m,\u001b[0m \u001b[0;32mTrue\u001b[0m\u001b[0;34m)\u001b[0m\u001b[0;34m:\u001b[0m\u001b[0;34m\u001b[0m\u001b[0;34m\u001b[0m\u001b[0m\n\u001b[0;32m--> 588\u001b[0;31m             \u001b[0mself\u001b[0m\u001b[0;34m.\u001b[0m\u001b[0m_check_n_features\u001b[0m\u001b[0;34m(\u001b[0m\u001b[0mX\u001b[0m\u001b[0;34m,\u001b[0m \u001b[0mreset\u001b[0m\u001b[0;34m=\u001b[0m\u001b[0mreset\u001b[0m\u001b[0;34m)\u001b[0m\u001b[0;34m\u001b[0m\u001b[0;34m\u001b[0m\u001b[0m\n\u001b[0m\u001b[1;32m    589\u001b[0m \u001b[0;34m\u001b[0m\u001b[0m\n\u001b[1;32m    590\u001b[0m         \u001b[0;32mreturn\u001b[0m \u001b[0mout\u001b[0m\u001b[0;34m\u001b[0m\u001b[0;34m\u001b[0m\u001b[0m\n",
            "\u001b[0;32m/usr/local/lib/python3.10/dist-packages/sklearn/base.py\u001b[0m in \u001b[0;36m_check_n_features\u001b[0;34m(self, X, reset)\u001b[0m\n\u001b[1;32m    387\u001b[0m \u001b[0;34m\u001b[0m\u001b[0m\n\u001b[1;32m    388\u001b[0m         \u001b[0;32mif\u001b[0m \u001b[0mn_features\u001b[0m \u001b[0;34m!=\u001b[0m \u001b[0mself\u001b[0m\u001b[0;34m.\u001b[0m\u001b[0mn_features_in_\u001b[0m\u001b[0;34m:\u001b[0m\u001b[0;34m\u001b[0m\u001b[0;34m\u001b[0m\u001b[0m\n\u001b[0;32m--> 389\u001b[0;31m             raise ValueError(\n\u001b[0m\u001b[1;32m    390\u001b[0m                 \u001b[0;34mf\"X has {n_features} features, but {self.__class__.__name__} \"\u001b[0m\u001b[0;34m\u001b[0m\u001b[0;34m\u001b[0m\u001b[0m\n\u001b[1;32m    391\u001b[0m                 \u001b[0;34mf\"is expecting {self.n_features_in_} features as input.\"\u001b[0m\u001b[0;34m\u001b[0m\u001b[0;34m\u001b[0m\u001b[0m\n",
            "\u001b[0;31mValueError\u001b[0m: X has 105 features, but RandomForestClassifier is expecting 104 features as input."
          ]
        }
      ]
    }
  ],
  "metadata": {
    "kernelspec": {
      "display_name": "Python 3 (ipykernel)",
      "language": "python",
      "name": "python3"
    },
    "language_info": {
      "codemirror_mode": {
        "name": "ipython",
        "version": 3
      },
      "file_extension": ".py",
      "mimetype": "text/x-python",
      "name": "python",
      "nbconvert_exporter": "python",
      "pygments_lexer": "ipython3",
      "version": "3.11.5"
    },
    "colab": {
      "provenance": [],
      "include_colab_link": true
    }
  },
  "nbformat": 4,
  "nbformat_minor": 5
}